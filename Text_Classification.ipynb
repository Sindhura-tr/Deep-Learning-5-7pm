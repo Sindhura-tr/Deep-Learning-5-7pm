{
  "nbformat": 4,
  "nbformat_minor": 0,
  "metadata": {
    "colab": {
      "provenance": [],
      "gpuType": "T4",
      "authorship_tag": "ABX9TyMvccHFH0NtT0r437UEMGF1",
      "include_colab_link": true
    },
    "kernelspec": {
      "name": "python3",
      "display_name": "Python 3"
    },
    "language_info": {
      "name": "python"
    },
    "accelerator": "GPU"
  },
  "cells": [
    {
      "cell_type": "markdown",
      "metadata": {
        "id": "view-in-github",
        "colab_type": "text"
      },
      "source": [
        "<a href=\"https://colab.research.google.com/github/Sindhura-tr/Deep-Learning-5-7pm/blob/main/Text_Classification.ipynb\" target=\"_parent\"><img src=\"https://colab.research.google.com/assets/colab-badge.svg\" alt=\"Open In Colab\"/></a>"
      ]
    },
    {
      "cell_type": "markdown",
      "source": [
        "## Sentiment Analysis"
      ],
      "metadata": {
        "id": "aB7LIxzSV5_X"
      }
    },
    {
      "cell_type": "markdown",
      "source": [
        "## Data Ingestion"
      ],
      "metadata": {
        "id": "bSRCyOYFX8Cn"
      }
    },
    {
      "cell_type": "code",
      "execution_count": 63,
      "metadata": {
        "colab": {
          "base_uri": "https://localhost:8080/",
          "height": 206
        },
        "id": "9-XW1scPV3oN",
        "outputId": "7a52726f-b5aa-4e3d-a4ba-e4a7c462c188"
      },
      "outputs": [
        {
          "output_type": "execute_result",
          "data": {
            "text/plain": [
              "                                              Review  Liked\n",
              "0                           Wow... Loved this place.      1\n",
              "1                                 Crust is not good.      0\n",
              "2          Not tasty and the texture was just nasty.      0\n",
              "3  Stopped by during the late May bank holiday of...      1\n",
              "4  The selection on the menu was great and so wer...      1"
            ],
            "text/html": [
              "\n",
              "  <div id=\"df-95235098-9998-41a5-b950-7e03388cbc77\" class=\"colab-df-container\">\n",
              "    <div>\n",
              "<style scoped>\n",
              "    .dataframe tbody tr th:only-of-type {\n",
              "        vertical-align: middle;\n",
              "    }\n",
              "\n",
              "    .dataframe tbody tr th {\n",
              "        vertical-align: top;\n",
              "    }\n",
              "\n",
              "    .dataframe thead th {\n",
              "        text-align: right;\n",
              "    }\n",
              "</style>\n",
              "<table border=\"1\" class=\"dataframe\">\n",
              "  <thead>\n",
              "    <tr style=\"text-align: right;\">\n",
              "      <th></th>\n",
              "      <th>Review</th>\n",
              "      <th>Liked</th>\n",
              "    </tr>\n",
              "  </thead>\n",
              "  <tbody>\n",
              "    <tr>\n",
              "      <th>0</th>\n",
              "      <td>Wow... Loved this place.</td>\n",
              "      <td>1</td>\n",
              "    </tr>\n",
              "    <tr>\n",
              "      <th>1</th>\n",
              "      <td>Crust is not good.</td>\n",
              "      <td>0</td>\n",
              "    </tr>\n",
              "    <tr>\n",
              "      <th>2</th>\n",
              "      <td>Not tasty and the texture was just nasty.</td>\n",
              "      <td>0</td>\n",
              "    </tr>\n",
              "    <tr>\n",
              "      <th>3</th>\n",
              "      <td>Stopped by during the late May bank holiday of...</td>\n",
              "      <td>1</td>\n",
              "    </tr>\n",
              "    <tr>\n",
              "      <th>4</th>\n",
              "      <td>The selection on the menu was great and so wer...</td>\n",
              "      <td>1</td>\n",
              "    </tr>\n",
              "  </tbody>\n",
              "</table>\n",
              "</div>\n",
              "    <div class=\"colab-df-buttons\">\n",
              "\n",
              "  <div class=\"colab-df-container\">\n",
              "    <button class=\"colab-df-convert\" onclick=\"convertToInteractive('df-95235098-9998-41a5-b950-7e03388cbc77')\"\n",
              "            title=\"Convert this dataframe to an interactive table.\"\n",
              "            style=\"display:none;\">\n",
              "\n",
              "  <svg xmlns=\"http://www.w3.org/2000/svg\" height=\"24px\" viewBox=\"0 -960 960 960\">\n",
              "    <path d=\"M120-120v-720h720v720H120Zm60-500h600v-160H180v160Zm220 220h160v-160H400v160Zm0 220h160v-160H400v160ZM180-400h160v-160H180v160Zm440 0h160v-160H620v160ZM180-180h160v-160H180v160Zm440 0h160v-160H620v160Z\"/>\n",
              "  </svg>\n",
              "    </button>\n",
              "\n",
              "  <style>\n",
              "    .colab-df-container {\n",
              "      display:flex;\n",
              "      gap: 12px;\n",
              "    }\n",
              "\n",
              "    .colab-df-convert {\n",
              "      background-color: #E8F0FE;\n",
              "      border: none;\n",
              "      border-radius: 50%;\n",
              "      cursor: pointer;\n",
              "      display: none;\n",
              "      fill: #1967D2;\n",
              "      height: 32px;\n",
              "      padding: 0 0 0 0;\n",
              "      width: 32px;\n",
              "    }\n",
              "\n",
              "    .colab-df-convert:hover {\n",
              "      background-color: #E2EBFA;\n",
              "      box-shadow: 0px 1px 2px rgba(60, 64, 67, 0.3), 0px 1px 3px 1px rgba(60, 64, 67, 0.15);\n",
              "      fill: #174EA6;\n",
              "    }\n",
              "\n",
              "    .colab-df-buttons div {\n",
              "      margin-bottom: 4px;\n",
              "    }\n",
              "\n",
              "    [theme=dark] .colab-df-convert {\n",
              "      background-color: #3B4455;\n",
              "      fill: #D2E3FC;\n",
              "    }\n",
              "\n",
              "    [theme=dark] .colab-df-convert:hover {\n",
              "      background-color: #434B5C;\n",
              "      box-shadow: 0px 1px 3px 1px rgba(0, 0, 0, 0.15);\n",
              "      filter: drop-shadow(0px 1px 2px rgba(0, 0, 0, 0.3));\n",
              "      fill: #FFFFFF;\n",
              "    }\n",
              "  </style>\n",
              "\n",
              "    <script>\n",
              "      const buttonEl =\n",
              "        document.querySelector('#df-95235098-9998-41a5-b950-7e03388cbc77 button.colab-df-convert');\n",
              "      buttonEl.style.display =\n",
              "        google.colab.kernel.accessAllowed ? 'block' : 'none';\n",
              "\n",
              "      async function convertToInteractive(key) {\n",
              "        const element = document.querySelector('#df-95235098-9998-41a5-b950-7e03388cbc77');\n",
              "        const dataTable =\n",
              "          await google.colab.kernel.invokeFunction('convertToInteractive',\n",
              "                                                    [key], {});\n",
              "        if (!dataTable) return;\n",
              "\n",
              "        const docLinkHtml = 'Like what you see? Visit the ' +\n",
              "          '<a target=\"_blank\" href=https://colab.research.google.com/notebooks/data_table.ipynb>data table notebook</a>'\n",
              "          + ' to learn more about interactive tables.';\n",
              "        element.innerHTML = '';\n",
              "        dataTable['output_type'] = 'display_data';\n",
              "        await google.colab.output.renderOutput(dataTable, element);\n",
              "        const docLink = document.createElement('div');\n",
              "        docLink.innerHTML = docLinkHtml;\n",
              "        element.appendChild(docLink);\n",
              "      }\n",
              "    </script>\n",
              "  </div>\n",
              "\n",
              "\n",
              "    <div id=\"df-7ca30156-3435-4b73-a1eb-ab8617f46f53\">\n",
              "      <button class=\"colab-df-quickchart\" onclick=\"quickchart('df-7ca30156-3435-4b73-a1eb-ab8617f46f53')\"\n",
              "                title=\"Suggest charts\"\n",
              "                style=\"display:none;\">\n",
              "\n",
              "<svg xmlns=\"http://www.w3.org/2000/svg\" height=\"24px\"viewBox=\"0 0 24 24\"\n",
              "     width=\"24px\">\n",
              "    <g>\n",
              "        <path d=\"M19 3H5c-1.1 0-2 .9-2 2v14c0 1.1.9 2 2 2h14c1.1 0 2-.9 2-2V5c0-1.1-.9-2-2-2zM9 17H7v-7h2v7zm4 0h-2V7h2v10zm4 0h-2v-4h2v4z\"/>\n",
              "    </g>\n",
              "</svg>\n",
              "      </button>\n",
              "\n",
              "<style>\n",
              "  .colab-df-quickchart {\n",
              "      --bg-color: #E8F0FE;\n",
              "      --fill-color: #1967D2;\n",
              "      --hover-bg-color: #E2EBFA;\n",
              "      --hover-fill-color: #174EA6;\n",
              "      --disabled-fill-color: #AAA;\n",
              "      --disabled-bg-color: #DDD;\n",
              "  }\n",
              "\n",
              "  [theme=dark] .colab-df-quickchart {\n",
              "      --bg-color: #3B4455;\n",
              "      --fill-color: #D2E3FC;\n",
              "      --hover-bg-color: #434B5C;\n",
              "      --hover-fill-color: #FFFFFF;\n",
              "      --disabled-bg-color: #3B4455;\n",
              "      --disabled-fill-color: #666;\n",
              "  }\n",
              "\n",
              "  .colab-df-quickchart {\n",
              "    background-color: var(--bg-color);\n",
              "    border: none;\n",
              "    border-radius: 50%;\n",
              "    cursor: pointer;\n",
              "    display: none;\n",
              "    fill: var(--fill-color);\n",
              "    height: 32px;\n",
              "    padding: 0;\n",
              "    width: 32px;\n",
              "  }\n",
              "\n",
              "  .colab-df-quickchart:hover {\n",
              "    background-color: var(--hover-bg-color);\n",
              "    box-shadow: 0 1px 2px rgba(60, 64, 67, 0.3), 0 1px 3px 1px rgba(60, 64, 67, 0.15);\n",
              "    fill: var(--button-hover-fill-color);\n",
              "  }\n",
              "\n",
              "  .colab-df-quickchart-complete:disabled,\n",
              "  .colab-df-quickchart-complete:disabled:hover {\n",
              "    background-color: var(--disabled-bg-color);\n",
              "    fill: var(--disabled-fill-color);\n",
              "    box-shadow: none;\n",
              "  }\n",
              "\n",
              "  .colab-df-spinner {\n",
              "    border: 2px solid var(--fill-color);\n",
              "    border-color: transparent;\n",
              "    border-bottom-color: var(--fill-color);\n",
              "    animation:\n",
              "      spin 1s steps(1) infinite;\n",
              "  }\n",
              "\n",
              "  @keyframes spin {\n",
              "    0% {\n",
              "      border-color: transparent;\n",
              "      border-bottom-color: var(--fill-color);\n",
              "      border-left-color: var(--fill-color);\n",
              "    }\n",
              "    20% {\n",
              "      border-color: transparent;\n",
              "      border-left-color: var(--fill-color);\n",
              "      border-top-color: var(--fill-color);\n",
              "    }\n",
              "    30% {\n",
              "      border-color: transparent;\n",
              "      border-left-color: var(--fill-color);\n",
              "      border-top-color: var(--fill-color);\n",
              "      border-right-color: var(--fill-color);\n",
              "    }\n",
              "    40% {\n",
              "      border-color: transparent;\n",
              "      border-right-color: var(--fill-color);\n",
              "      border-top-color: var(--fill-color);\n",
              "    }\n",
              "    60% {\n",
              "      border-color: transparent;\n",
              "      border-right-color: var(--fill-color);\n",
              "    }\n",
              "    80% {\n",
              "      border-color: transparent;\n",
              "      border-right-color: var(--fill-color);\n",
              "      border-bottom-color: var(--fill-color);\n",
              "    }\n",
              "    90% {\n",
              "      border-color: transparent;\n",
              "      border-bottom-color: var(--fill-color);\n",
              "    }\n",
              "  }\n",
              "</style>\n",
              "\n",
              "      <script>\n",
              "        async function quickchart(key) {\n",
              "          const quickchartButtonEl =\n",
              "            document.querySelector('#' + key + ' button');\n",
              "          quickchartButtonEl.disabled = true;  // To prevent multiple clicks.\n",
              "          quickchartButtonEl.classList.add('colab-df-spinner');\n",
              "          try {\n",
              "            const charts = await google.colab.kernel.invokeFunction(\n",
              "                'suggestCharts', [key], {});\n",
              "          } catch (error) {\n",
              "            console.error('Error during call to suggestCharts:', error);\n",
              "          }\n",
              "          quickchartButtonEl.classList.remove('colab-df-spinner');\n",
              "          quickchartButtonEl.classList.add('colab-df-quickchart-complete');\n",
              "        }\n",
              "        (() => {\n",
              "          let quickchartButtonEl =\n",
              "            document.querySelector('#df-7ca30156-3435-4b73-a1eb-ab8617f46f53 button');\n",
              "          quickchartButtonEl.style.display =\n",
              "            google.colab.kernel.accessAllowed ? 'block' : 'none';\n",
              "        })();\n",
              "      </script>\n",
              "    </div>\n",
              "\n",
              "    </div>\n",
              "  </div>\n"
            ],
            "application/vnd.google.colaboratory.intrinsic+json": {
              "type": "dataframe",
              "variable_name": "df",
              "summary": "{\n  \"name\": \"df\",\n  \"rows\": 1000,\n  \"fields\": [\n    {\n      \"column\": \"Review\",\n      \"properties\": {\n        \"dtype\": \"string\",\n        \"num_unique_values\": 996,\n        \"samples\": [\n          \"They were excellent.\",\n          \"Your servers suck, wait, correction, our server Heimer sucked.\",\n          \"Will be back again!\"\n        ],\n        \"semantic_type\": \"\",\n        \"description\": \"\"\n      }\n    },\n    {\n      \"column\": \"Liked\",\n      \"properties\": {\n        \"dtype\": \"number\",\n        \"std\": 0,\n        \"min\": 0,\n        \"max\": 1,\n        \"num_unique_values\": 2,\n        \"samples\": [\n          0,\n          1\n        ],\n        \"semantic_type\": \"\",\n        \"description\": \"\"\n      }\n    }\n  ]\n}"
            }
          },
          "metadata": {},
          "execution_count": 63
        }
      ],
      "source": [
        "import pandas as pd\n",
        "df = pd.read_csv(\"https://raw.githubusercontent.com/Sindhura-tr/Datasets/refs/heads/main/Restaurant_Reviews.tsv\",sep=\"\\t\")\n",
        "df.head()"
      ]
    },
    {
      "cell_type": "code",
      "source": [
        "st = \"Wow... Loved this place.\""
      ],
      "metadata": {
        "id": "VqSgE27rWPoj"
      },
      "execution_count": 64,
      "outputs": []
    },
    {
      "cell_type": "code",
      "source": [
        "st = st.lower()\n",
        "st"
      ],
      "metadata": {
        "colab": {
          "base_uri": "https://localhost:8080/",
          "height": 36
        },
        "id": "Te_BgLFUWgRk",
        "outputId": "beb7dd31-7c97-4706-9424-ea22bcfecf0f"
      },
      "execution_count": 65,
      "outputs": [
        {
          "output_type": "execute_result",
          "data": {
            "text/plain": [
              "'wow... loved this place.'"
            ],
            "application/vnd.google.colaboratory.intrinsic+json": {
              "type": "string"
            }
          },
          "metadata": {},
          "execution_count": 65
        }
      ]
    },
    {
      "cell_type": "code",
      "source": [
        "import re"
      ],
      "metadata": {
        "id": "UAoKlJjOWhGd"
      },
      "execution_count": 66,
      "outputs": []
    },
    {
      "cell_type": "code",
      "source": [
        "pattern = \"[^a-z ]\""
      ],
      "metadata": {
        "id": "d_BmzU7PWl8O"
      },
      "execution_count": 67,
      "outputs": []
    },
    {
      "cell_type": "code",
      "source": [
        "re.sub(pattern,\"\",st)"
      ],
      "metadata": {
        "colab": {
          "base_uri": "https://localhost:8080/",
          "height": 36
        },
        "id": "Gow4-y8tWu1E",
        "outputId": "005e0b1d-34a9-42f3-a05d-81e1968d0ecc"
      },
      "execution_count": 68,
      "outputs": [
        {
          "output_type": "execute_result",
          "data": {
            "text/plain": [
              "'wow loved this place'"
            ],
            "application/vnd.google.colaboratory.intrinsic+json": {
              "type": "string"
            }
          },
          "metadata": {},
          "execution_count": 68
        }
      ]
    },
    {
      "cell_type": "markdown",
      "source": [
        "## Text Preprocessing"
      ],
      "metadata": {
        "id": "UadFvLIQYAse"
      }
    },
    {
      "cell_type": "code",
      "source": [
        "def preprocess_text(text):\n",
        "  # convert all the text into lower case\n",
        "  text = text.lower()\n",
        "  # replace text other than a-z with \"\"\n",
        "  pattern = \"[^a-z ]\"\n",
        "  text_new = re.sub(pattern,\"\",text)\n",
        "  return text_new"
      ],
      "metadata": {
        "id": "UEVQn1QZW5HJ"
      },
      "execution_count": 69,
      "outputs": []
    },
    {
      "cell_type": "code",
      "source": [
        "preprocess_text(\"The selection on the menu was great and so wer...\")"
      ],
      "metadata": {
        "colab": {
          "base_uri": "https://localhost:8080/",
          "height": 36
        },
        "id": "xVWbdiBqXc7T",
        "outputId": "b1a9b834-15af-4314-8570-d06212838c79"
      },
      "execution_count": 70,
      "outputs": [
        {
          "output_type": "execute_result",
          "data": {
            "text/plain": [
              "'the selection on the menu was great and so wer'"
            ],
            "application/vnd.google.colaboratory.intrinsic+json": {
              "type": "string"
            }
          },
          "metadata": {},
          "execution_count": 70
        }
      ]
    },
    {
      "cell_type": "code",
      "source": [
        "df.head()"
      ],
      "metadata": {
        "colab": {
          "base_uri": "https://localhost:8080/",
          "height": 206
        },
        "id": "ZwQ8A_j4XmwE",
        "outputId": "0eca5059-609d-4e94-d3b6-25e8a082f319"
      },
      "execution_count": 71,
      "outputs": [
        {
          "output_type": "execute_result",
          "data": {
            "text/plain": [
              "                                              Review  Liked\n",
              "0                           Wow... Loved this place.      1\n",
              "1                                 Crust is not good.      0\n",
              "2          Not tasty and the texture was just nasty.      0\n",
              "3  Stopped by during the late May bank holiday of...      1\n",
              "4  The selection on the menu was great and so wer...      1"
            ],
            "text/html": [
              "\n",
              "  <div id=\"df-f9927ebc-e621-4668-a32f-2299c9eb2567\" class=\"colab-df-container\">\n",
              "    <div>\n",
              "<style scoped>\n",
              "    .dataframe tbody tr th:only-of-type {\n",
              "        vertical-align: middle;\n",
              "    }\n",
              "\n",
              "    .dataframe tbody tr th {\n",
              "        vertical-align: top;\n",
              "    }\n",
              "\n",
              "    .dataframe thead th {\n",
              "        text-align: right;\n",
              "    }\n",
              "</style>\n",
              "<table border=\"1\" class=\"dataframe\">\n",
              "  <thead>\n",
              "    <tr style=\"text-align: right;\">\n",
              "      <th></th>\n",
              "      <th>Review</th>\n",
              "      <th>Liked</th>\n",
              "    </tr>\n",
              "  </thead>\n",
              "  <tbody>\n",
              "    <tr>\n",
              "      <th>0</th>\n",
              "      <td>Wow... Loved this place.</td>\n",
              "      <td>1</td>\n",
              "    </tr>\n",
              "    <tr>\n",
              "      <th>1</th>\n",
              "      <td>Crust is not good.</td>\n",
              "      <td>0</td>\n",
              "    </tr>\n",
              "    <tr>\n",
              "      <th>2</th>\n",
              "      <td>Not tasty and the texture was just nasty.</td>\n",
              "      <td>0</td>\n",
              "    </tr>\n",
              "    <tr>\n",
              "      <th>3</th>\n",
              "      <td>Stopped by during the late May bank holiday of...</td>\n",
              "      <td>1</td>\n",
              "    </tr>\n",
              "    <tr>\n",
              "      <th>4</th>\n",
              "      <td>The selection on the menu was great and so wer...</td>\n",
              "      <td>1</td>\n",
              "    </tr>\n",
              "  </tbody>\n",
              "</table>\n",
              "</div>\n",
              "    <div class=\"colab-df-buttons\">\n",
              "\n",
              "  <div class=\"colab-df-container\">\n",
              "    <button class=\"colab-df-convert\" onclick=\"convertToInteractive('df-f9927ebc-e621-4668-a32f-2299c9eb2567')\"\n",
              "            title=\"Convert this dataframe to an interactive table.\"\n",
              "            style=\"display:none;\">\n",
              "\n",
              "  <svg xmlns=\"http://www.w3.org/2000/svg\" height=\"24px\" viewBox=\"0 -960 960 960\">\n",
              "    <path d=\"M120-120v-720h720v720H120Zm60-500h600v-160H180v160Zm220 220h160v-160H400v160Zm0 220h160v-160H400v160ZM180-400h160v-160H180v160Zm440 0h160v-160H620v160ZM180-180h160v-160H180v160Zm440 0h160v-160H620v160Z\"/>\n",
              "  </svg>\n",
              "    </button>\n",
              "\n",
              "  <style>\n",
              "    .colab-df-container {\n",
              "      display:flex;\n",
              "      gap: 12px;\n",
              "    }\n",
              "\n",
              "    .colab-df-convert {\n",
              "      background-color: #E8F0FE;\n",
              "      border: none;\n",
              "      border-radius: 50%;\n",
              "      cursor: pointer;\n",
              "      display: none;\n",
              "      fill: #1967D2;\n",
              "      height: 32px;\n",
              "      padding: 0 0 0 0;\n",
              "      width: 32px;\n",
              "    }\n",
              "\n",
              "    .colab-df-convert:hover {\n",
              "      background-color: #E2EBFA;\n",
              "      box-shadow: 0px 1px 2px rgba(60, 64, 67, 0.3), 0px 1px 3px 1px rgba(60, 64, 67, 0.15);\n",
              "      fill: #174EA6;\n",
              "    }\n",
              "\n",
              "    .colab-df-buttons div {\n",
              "      margin-bottom: 4px;\n",
              "    }\n",
              "\n",
              "    [theme=dark] .colab-df-convert {\n",
              "      background-color: #3B4455;\n",
              "      fill: #D2E3FC;\n",
              "    }\n",
              "\n",
              "    [theme=dark] .colab-df-convert:hover {\n",
              "      background-color: #434B5C;\n",
              "      box-shadow: 0px 1px 3px 1px rgba(0, 0, 0, 0.15);\n",
              "      filter: drop-shadow(0px 1px 2px rgba(0, 0, 0, 0.3));\n",
              "      fill: #FFFFFF;\n",
              "    }\n",
              "  </style>\n",
              "\n",
              "    <script>\n",
              "      const buttonEl =\n",
              "        document.querySelector('#df-f9927ebc-e621-4668-a32f-2299c9eb2567 button.colab-df-convert');\n",
              "      buttonEl.style.display =\n",
              "        google.colab.kernel.accessAllowed ? 'block' : 'none';\n",
              "\n",
              "      async function convertToInteractive(key) {\n",
              "        const element = document.querySelector('#df-f9927ebc-e621-4668-a32f-2299c9eb2567');\n",
              "        const dataTable =\n",
              "          await google.colab.kernel.invokeFunction('convertToInteractive',\n",
              "                                                    [key], {});\n",
              "        if (!dataTable) return;\n",
              "\n",
              "        const docLinkHtml = 'Like what you see? Visit the ' +\n",
              "          '<a target=\"_blank\" href=https://colab.research.google.com/notebooks/data_table.ipynb>data table notebook</a>'\n",
              "          + ' to learn more about interactive tables.';\n",
              "        element.innerHTML = '';\n",
              "        dataTable['output_type'] = 'display_data';\n",
              "        await google.colab.output.renderOutput(dataTable, element);\n",
              "        const docLink = document.createElement('div');\n",
              "        docLink.innerHTML = docLinkHtml;\n",
              "        element.appendChild(docLink);\n",
              "      }\n",
              "    </script>\n",
              "  </div>\n",
              "\n",
              "\n",
              "    <div id=\"df-cf0d12da-96df-419f-8883-10e764161efa\">\n",
              "      <button class=\"colab-df-quickchart\" onclick=\"quickchart('df-cf0d12da-96df-419f-8883-10e764161efa')\"\n",
              "                title=\"Suggest charts\"\n",
              "                style=\"display:none;\">\n",
              "\n",
              "<svg xmlns=\"http://www.w3.org/2000/svg\" height=\"24px\"viewBox=\"0 0 24 24\"\n",
              "     width=\"24px\">\n",
              "    <g>\n",
              "        <path d=\"M19 3H5c-1.1 0-2 .9-2 2v14c0 1.1.9 2 2 2h14c1.1 0 2-.9 2-2V5c0-1.1-.9-2-2-2zM9 17H7v-7h2v7zm4 0h-2V7h2v10zm4 0h-2v-4h2v4z\"/>\n",
              "    </g>\n",
              "</svg>\n",
              "      </button>\n",
              "\n",
              "<style>\n",
              "  .colab-df-quickchart {\n",
              "      --bg-color: #E8F0FE;\n",
              "      --fill-color: #1967D2;\n",
              "      --hover-bg-color: #E2EBFA;\n",
              "      --hover-fill-color: #174EA6;\n",
              "      --disabled-fill-color: #AAA;\n",
              "      --disabled-bg-color: #DDD;\n",
              "  }\n",
              "\n",
              "  [theme=dark] .colab-df-quickchart {\n",
              "      --bg-color: #3B4455;\n",
              "      --fill-color: #D2E3FC;\n",
              "      --hover-bg-color: #434B5C;\n",
              "      --hover-fill-color: #FFFFFF;\n",
              "      --disabled-bg-color: #3B4455;\n",
              "      --disabled-fill-color: #666;\n",
              "  }\n",
              "\n",
              "  .colab-df-quickchart {\n",
              "    background-color: var(--bg-color);\n",
              "    border: none;\n",
              "    border-radius: 50%;\n",
              "    cursor: pointer;\n",
              "    display: none;\n",
              "    fill: var(--fill-color);\n",
              "    height: 32px;\n",
              "    padding: 0;\n",
              "    width: 32px;\n",
              "  }\n",
              "\n",
              "  .colab-df-quickchart:hover {\n",
              "    background-color: var(--hover-bg-color);\n",
              "    box-shadow: 0 1px 2px rgba(60, 64, 67, 0.3), 0 1px 3px 1px rgba(60, 64, 67, 0.15);\n",
              "    fill: var(--button-hover-fill-color);\n",
              "  }\n",
              "\n",
              "  .colab-df-quickchart-complete:disabled,\n",
              "  .colab-df-quickchart-complete:disabled:hover {\n",
              "    background-color: var(--disabled-bg-color);\n",
              "    fill: var(--disabled-fill-color);\n",
              "    box-shadow: none;\n",
              "  }\n",
              "\n",
              "  .colab-df-spinner {\n",
              "    border: 2px solid var(--fill-color);\n",
              "    border-color: transparent;\n",
              "    border-bottom-color: var(--fill-color);\n",
              "    animation:\n",
              "      spin 1s steps(1) infinite;\n",
              "  }\n",
              "\n",
              "  @keyframes spin {\n",
              "    0% {\n",
              "      border-color: transparent;\n",
              "      border-bottom-color: var(--fill-color);\n",
              "      border-left-color: var(--fill-color);\n",
              "    }\n",
              "    20% {\n",
              "      border-color: transparent;\n",
              "      border-left-color: var(--fill-color);\n",
              "      border-top-color: var(--fill-color);\n",
              "    }\n",
              "    30% {\n",
              "      border-color: transparent;\n",
              "      border-left-color: var(--fill-color);\n",
              "      border-top-color: var(--fill-color);\n",
              "      border-right-color: var(--fill-color);\n",
              "    }\n",
              "    40% {\n",
              "      border-color: transparent;\n",
              "      border-right-color: var(--fill-color);\n",
              "      border-top-color: var(--fill-color);\n",
              "    }\n",
              "    60% {\n",
              "      border-color: transparent;\n",
              "      border-right-color: var(--fill-color);\n",
              "    }\n",
              "    80% {\n",
              "      border-color: transparent;\n",
              "      border-right-color: var(--fill-color);\n",
              "      border-bottom-color: var(--fill-color);\n",
              "    }\n",
              "    90% {\n",
              "      border-color: transparent;\n",
              "      border-bottom-color: var(--fill-color);\n",
              "    }\n",
              "  }\n",
              "</style>\n",
              "\n",
              "      <script>\n",
              "        async function quickchart(key) {\n",
              "          const quickchartButtonEl =\n",
              "            document.querySelector('#' + key + ' button');\n",
              "          quickchartButtonEl.disabled = true;  // To prevent multiple clicks.\n",
              "          quickchartButtonEl.classList.add('colab-df-spinner');\n",
              "          try {\n",
              "            const charts = await google.colab.kernel.invokeFunction(\n",
              "                'suggestCharts', [key], {});\n",
              "          } catch (error) {\n",
              "            console.error('Error during call to suggestCharts:', error);\n",
              "          }\n",
              "          quickchartButtonEl.classList.remove('colab-df-spinner');\n",
              "          quickchartButtonEl.classList.add('colab-df-quickchart-complete');\n",
              "        }\n",
              "        (() => {\n",
              "          let quickchartButtonEl =\n",
              "            document.querySelector('#df-cf0d12da-96df-419f-8883-10e764161efa button');\n",
              "          quickchartButtonEl.style.display =\n",
              "            google.colab.kernel.accessAllowed ? 'block' : 'none';\n",
              "        })();\n",
              "      </script>\n",
              "    </div>\n",
              "\n",
              "    </div>\n",
              "  </div>\n"
            ],
            "application/vnd.google.colaboratory.intrinsic+json": {
              "type": "dataframe",
              "variable_name": "df",
              "summary": "{\n  \"name\": \"df\",\n  \"rows\": 1000,\n  \"fields\": [\n    {\n      \"column\": \"Review\",\n      \"properties\": {\n        \"dtype\": \"string\",\n        \"num_unique_values\": 996,\n        \"samples\": [\n          \"They were excellent.\",\n          \"Your servers suck, wait, correction, our server Heimer sucked.\",\n          \"Will be back again!\"\n        ],\n        \"semantic_type\": \"\",\n        \"description\": \"\"\n      }\n    },\n    {\n      \"column\": \"Liked\",\n      \"properties\": {\n        \"dtype\": \"number\",\n        \"std\": 0,\n        \"min\": 0,\n        \"max\": 1,\n        \"num_unique_values\": 2,\n        \"samples\": [\n          0,\n          1\n        ],\n        \"semantic_type\": \"\",\n        \"description\": \"\"\n      }\n    }\n  ]\n}"
            }
          },
          "metadata": {},
          "execution_count": 71
        }
      ]
    },
    {
      "cell_type": "code",
      "source": [
        "df[\"pre_Review\"] = df[\"Review\"].apply(preprocess_text)\n",
        "df.head()"
      ],
      "metadata": {
        "colab": {
          "base_uri": "https://localhost:8080/",
          "height": 206
        },
        "id": "WljcZUnzXh8C",
        "outputId": "93345725-0dc2-46d3-e58f-296865b34619"
      },
      "execution_count": 72,
      "outputs": [
        {
          "output_type": "execute_result",
          "data": {
            "text/plain": [
              "                                              Review  Liked  \\\n",
              "0                           Wow... Loved this place.      1   \n",
              "1                                 Crust is not good.      0   \n",
              "2          Not tasty and the texture was just nasty.      0   \n",
              "3  Stopped by during the late May bank holiday of...      1   \n",
              "4  The selection on the menu was great and so wer...      1   \n",
              "\n",
              "                                          pre_Review  \n",
              "0                               wow loved this place  \n",
              "1                                  crust is not good  \n",
              "2           not tasty and the texture was just nasty  \n",
              "3  stopped by during the late may bank holiday of...  \n",
              "4  the selection on the menu was great and so wer...  "
            ],
            "text/html": [
              "\n",
              "  <div id=\"df-08a76e44-05cd-4d24-a983-dee7254b0c2d\" class=\"colab-df-container\">\n",
              "    <div>\n",
              "<style scoped>\n",
              "    .dataframe tbody tr th:only-of-type {\n",
              "        vertical-align: middle;\n",
              "    }\n",
              "\n",
              "    .dataframe tbody tr th {\n",
              "        vertical-align: top;\n",
              "    }\n",
              "\n",
              "    .dataframe thead th {\n",
              "        text-align: right;\n",
              "    }\n",
              "</style>\n",
              "<table border=\"1\" class=\"dataframe\">\n",
              "  <thead>\n",
              "    <tr style=\"text-align: right;\">\n",
              "      <th></th>\n",
              "      <th>Review</th>\n",
              "      <th>Liked</th>\n",
              "      <th>pre_Review</th>\n",
              "    </tr>\n",
              "  </thead>\n",
              "  <tbody>\n",
              "    <tr>\n",
              "      <th>0</th>\n",
              "      <td>Wow... Loved this place.</td>\n",
              "      <td>1</td>\n",
              "      <td>wow loved this place</td>\n",
              "    </tr>\n",
              "    <tr>\n",
              "      <th>1</th>\n",
              "      <td>Crust is not good.</td>\n",
              "      <td>0</td>\n",
              "      <td>crust is not good</td>\n",
              "    </tr>\n",
              "    <tr>\n",
              "      <th>2</th>\n",
              "      <td>Not tasty and the texture was just nasty.</td>\n",
              "      <td>0</td>\n",
              "      <td>not tasty and the texture was just nasty</td>\n",
              "    </tr>\n",
              "    <tr>\n",
              "      <th>3</th>\n",
              "      <td>Stopped by during the late May bank holiday of...</td>\n",
              "      <td>1</td>\n",
              "      <td>stopped by during the late may bank holiday of...</td>\n",
              "    </tr>\n",
              "    <tr>\n",
              "      <th>4</th>\n",
              "      <td>The selection on the menu was great and so wer...</td>\n",
              "      <td>1</td>\n",
              "      <td>the selection on the menu was great and so wer...</td>\n",
              "    </tr>\n",
              "  </tbody>\n",
              "</table>\n",
              "</div>\n",
              "    <div class=\"colab-df-buttons\">\n",
              "\n",
              "  <div class=\"colab-df-container\">\n",
              "    <button class=\"colab-df-convert\" onclick=\"convertToInteractive('df-08a76e44-05cd-4d24-a983-dee7254b0c2d')\"\n",
              "            title=\"Convert this dataframe to an interactive table.\"\n",
              "            style=\"display:none;\">\n",
              "\n",
              "  <svg xmlns=\"http://www.w3.org/2000/svg\" height=\"24px\" viewBox=\"0 -960 960 960\">\n",
              "    <path d=\"M120-120v-720h720v720H120Zm60-500h600v-160H180v160Zm220 220h160v-160H400v160Zm0 220h160v-160H400v160ZM180-400h160v-160H180v160Zm440 0h160v-160H620v160ZM180-180h160v-160H180v160Zm440 0h160v-160H620v160Z\"/>\n",
              "  </svg>\n",
              "    </button>\n",
              "\n",
              "  <style>\n",
              "    .colab-df-container {\n",
              "      display:flex;\n",
              "      gap: 12px;\n",
              "    }\n",
              "\n",
              "    .colab-df-convert {\n",
              "      background-color: #E8F0FE;\n",
              "      border: none;\n",
              "      border-radius: 50%;\n",
              "      cursor: pointer;\n",
              "      display: none;\n",
              "      fill: #1967D2;\n",
              "      height: 32px;\n",
              "      padding: 0 0 0 0;\n",
              "      width: 32px;\n",
              "    }\n",
              "\n",
              "    .colab-df-convert:hover {\n",
              "      background-color: #E2EBFA;\n",
              "      box-shadow: 0px 1px 2px rgba(60, 64, 67, 0.3), 0px 1px 3px 1px rgba(60, 64, 67, 0.15);\n",
              "      fill: #174EA6;\n",
              "    }\n",
              "\n",
              "    .colab-df-buttons div {\n",
              "      margin-bottom: 4px;\n",
              "    }\n",
              "\n",
              "    [theme=dark] .colab-df-convert {\n",
              "      background-color: #3B4455;\n",
              "      fill: #D2E3FC;\n",
              "    }\n",
              "\n",
              "    [theme=dark] .colab-df-convert:hover {\n",
              "      background-color: #434B5C;\n",
              "      box-shadow: 0px 1px 3px 1px rgba(0, 0, 0, 0.15);\n",
              "      filter: drop-shadow(0px 1px 2px rgba(0, 0, 0, 0.3));\n",
              "      fill: #FFFFFF;\n",
              "    }\n",
              "  </style>\n",
              "\n",
              "    <script>\n",
              "      const buttonEl =\n",
              "        document.querySelector('#df-08a76e44-05cd-4d24-a983-dee7254b0c2d button.colab-df-convert');\n",
              "      buttonEl.style.display =\n",
              "        google.colab.kernel.accessAllowed ? 'block' : 'none';\n",
              "\n",
              "      async function convertToInteractive(key) {\n",
              "        const element = document.querySelector('#df-08a76e44-05cd-4d24-a983-dee7254b0c2d');\n",
              "        const dataTable =\n",
              "          await google.colab.kernel.invokeFunction('convertToInteractive',\n",
              "                                                    [key], {});\n",
              "        if (!dataTable) return;\n",
              "\n",
              "        const docLinkHtml = 'Like what you see? Visit the ' +\n",
              "          '<a target=\"_blank\" href=https://colab.research.google.com/notebooks/data_table.ipynb>data table notebook</a>'\n",
              "          + ' to learn more about interactive tables.';\n",
              "        element.innerHTML = '';\n",
              "        dataTable['output_type'] = 'display_data';\n",
              "        await google.colab.output.renderOutput(dataTable, element);\n",
              "        const docLink = document.createElement('div');\n",
              "        docLink.innerHTML = docLinkHtml;\n",
              "        element.appendChild(docLink);\n",
              "      }\n",
              "    </script>\n",
              "  </div>\n",
              "\n",
              "\n",
              "    <div id=\"df-540a6d38-03da-4689-8c1f-b22ed43da166\">\n",
              "      <button class=\"colab-df-quickchart\" onclick=\"quickchart('df-540a6d38-03da-4689-8c1f-b22ed43da166')\"\n",
              "                title=\"Suggest charts\"\n",
              "                style=\"display:none;\">\n",
              "\n",
              "<svg xmlns=\"http://www.w3.org/2000/svg\" height=\"24px\"viewBox=\"0 0 24 24\"\n",
              "     width=\"24px\">\n",
              "    <g>\n",
              "        <path d=\"M19 3H5c-1.1 0-2 .9-2 2v14c0 1.1.9 2 2 2h14c1.1 0 2-.9 2-2V5c0-1.1-.9-2-2-2zM9 17H7v-7h2v7zm4 0h-2V7h2v10zm4 0h-2v-4h2v4z\"/>\n",
              "    </g>\n",
              "</svg>\n",
              "      </button>\n",
              "\n",
              "<style>\n",
              "  .colab-df-quickchart {\n",
              "      --bg-color: #E8F0FE;\n",
              "      --fill-color: #1967D2;\n",
              "      --hover-bg-color: #E2EBFA;\n",
              "      --hover-fill-color: #174EA6;\n",
              "      --disabled-fill-color: #AAA;\n",
              "      --disabled-bg-color: #DDD;\n",
              "  }\n",
              "\n",
              "  [theme=dark] .colab-df-quickchart {\n",
              "      --bg-color: #3B4455;\n",
              "      --fill-color: #D2E3FC;\n",
              "      --hover-bg-color: #434B5C;\n",
              "      --hover-fill-color: #FFFFFF;\n",
              "      --disabled-bg-color: #3B4455;\n",
              "      --disabled-fill-color: #666;\n",
              "  }\n",
              "\n",
              "  .colab-df-quickchart {\n",
              "    background-color: var(--bg-color);\n",
              "    border: none;\n",
              "    border-radius: 50%;\n",
              "    cursor: pointer;\n",
              "    display: none;\n",
              "    fill: var(--fill-color);\n",
              "    height: 32px;\n",
              "    padding: 0;\n",
              "    width: 32px;\n",
              "  }\n",
              "\n",
              "  .colab-df-quickchart:hover {\n",
              "    background-color: var(--hover-bg-color);\n",
              "    box-shadow: 0 1px 2px rgba(60, 64, 67, 0.3), 0 1px 3px 1px rgba(60, 64, 67, 0.15);\n",
              "    fill: var(--button-hover-fill-color);\n",
              "  }\n",
              "\n",
              "  .colab-df-quickchart-complete:disabled,\n",
              "  .colab-df-quickchart-complete:disabled:hover {\n",
              "    background-color: var(--disabled-bg-color);\n",
              "    fill: var(--disabled-fill-color);\n",
              "    box-shadow: none;\n",
              "  }\n",
              "\n",
              "  .colab-df-spinner {\n",
              "    border: 2px solid var(--fill-color);\n",
              "    border-color: transparent;\n",
              "    border-bottom-color: var(--fill-color);\n",
              "    animation:\n",
              "      spin 1s steps(1) infinite;\n",
              "  }\n",
              "\n",
              "  @keyframes spin {\n",
              "    0% {\n",
              "      border-color: transparent;\n",
              "      border-bottom-color: var(--fill-color);\n",
              "      border-left-color: var(--fill-color);\n",
              "    }\n",
              "    20% {\n",
              "      border-color: transparent;\n",
              "      border-left-color: var(--fill-color);\n",
              "      border-top-color: var(--fill-color);\n",
              "    }\n",
              "    30% {\n",
              "      border-color: transparent;\n",
              "      border-left-color: var(--fill-color);\n",
              "      border-top-color: var(--fill-color);\n",
              "      border-right-color: var(--fill-color);\n",
              "    }\n",
              "    40% {\n",
              "      border-color: transparent;\n",
              "      border-right-color: var(--fill-color);\n",
              "      border-top-color: var(--fill-color);\n",
              "    }\n",
              "    60% {\n",
              "      border-color: transparent;\n",
              "      border-right-color: var(--fill-color);\n",
              "    }\n",
              "    80% {\n",
              "      border-color: transparent;\n",
              "      border-right-color: var(--fill-color);\n",
              "      border-bottom-color: var(--fill-color);\n",
              "    }\n",
              "    90% {\n",
              "      border-color: transparent;\n",
              "      border-bottom-color: var(--fill-color);\n",
              "    }\n",
              "  }\n",
              "</style>\n",
              "\n",
              "      <script>\n",
              "        async function quickchart(key) {\n",
              "          const quickchartButtonEl =\n",
              "            document.querySelector('#' + key + ' button');\n",
              "          quickchartButtonEl.disabled = true;  // To prevent multiple clicks.\n",
              "          quickchartButtonEl.classList.add('colab-df-spinner');\n",
              "          try {\n",
              "            const charts = await google.colab.kernel.invokeFunction(\n",
              "                'suggestCharts', [key], {});\n",
              "          } catch (error) {\n",
              "            console.error('Error during call to suggestCharts:', error);\n",
              "          }\n",
              "          quickchartButtonEl.classList.remove('colab-df-spinner');\n",
              "          quickchartButtonEl.classList.add('colab-df-quickchart-complete');\n",
              "        }\n",
              "        (() => {\n",
              "          let quickchartButtonEl =\n",
              "            document.querySelector('#df-540a6d38-03da-4689-8c1f-b22ed43da166 button');\n",
              "          quickchartButtonEl.style.display =\n",
              "            google.colab.kernel.accessAllowed ? 'block' : 'none';\n",
              "        })();\n",
              "      </script>\n",
              "    </div>\n",
              "\n",
              "    </div>\n",
              "  </div>\n"
            ],
            "application/vnd.google.colaboratory.intrinsic+json": {
              "type": "dataframe",
              "variable_name": "df",
              "summary": "{\n  \"name\": \"df\",\n  \"rows\": 1000,\n  \"fields\": [\n    {\n      \"column\": \"Review\",\n      \"properties\": {\n        \"dtype\": \"string\",\n        \"num_unique_values\": 996,\n        \"samples\": [\n          \"They were excellent.\",\n          \"Your servers suck, wait, correction, our server Heimer sucked.\",\n          \"Will be back again!\"\n        ],\n        \"semantic_type\": \"\",\n        \"description\": \"\"\n      }\n    },\n    {\n      \"column\": \"Liked\",\n      \"properties\": {\n        \"dtype\": \"number\",\n        \"std\": 0,\n        \"min\": 0,\n        \"max\": 1,\n        \"num_unique_values\": 2,\n        \"samples\": [\n          0,\n          1\n        ],\n        \"semantic_type\": \"\",\n        \"description\": \"\"\n      }\n    },\n    {\n      \"column\": \"pre_Review\",\n      \"properties\": {\n        \"dtype\": \"string\",\n        \"num_unique_values\": 995,\n        \"samples\": [\n          \"i could barely stomach the meal but didnt complain because it was a business lunch\",\n          \"similarly the delivery man did not say a word of apology when our food was  minutes late\"\n        ],\n        \"semantic_type\": \"\",\n        \"description\": \"\"\n      }\n    }\n  ]\n}"
            }
          },
          "metadata": {},
          "execution_count": 72
        }
      ]
    },
    {
      "cell_type": "markdown",
      "source": [
        "## Separate X and Y features"
      ],
      "metadata": {
        "id": "zkJJFrD4YF60"
      }
    },
    {
      "cell_type": "code",
      "source": [
        "X = df[\"pre_Review\"]\n",
        "Y = df[\"Liked\"]"
      ],
      "metadata": {
        "id": "LL2ZmQSHX13f"
      },
      "execution_count": 73,
      "outputs": []
    },
    {
      "cell_type": "code",
      "source": [
        "df.shape"
      ],
      "metadata": {
        "colab": {
          "base_uri": "https://localhost:8080/"
        },
        "id": "wEcqm5f-YvzQ",
        "outputId": "4fab7b79-6637-44c1-f6cb-71e5a1a5119a"
      },
      "execution_count": 74,
      "outputs": [
        {
          "output_type": "execute_result",
          "data": {
            "text/plain": [
              "(1000, 3)"
            ]
          },
          "metadata": {},
          "execution_count": 74
        }
      ]
    },
    {
      "cell_type": "code",
      "source": [
        "X.head()"
      ],
      "metadata": {
        "colab": {
          "base_uri": "https://localhost:8080/",
          "height": 241
        },
        "id": "no6daCP-YNgD",
        "outputId": "05807d44-5b93-4432-98e9-0516d5453f66"
      },
      "execution_count": 75,
      "outputs": [
        {
          "output_type": "execute_result",
          "data": {
            "text/plain": [
              "0                                 wow loved this place\n",
              "1                                    crust is not good\n",
              "2             not tasty and the texture was just nasty\n",
              "3    stopped by during the late may bank holiday of...\n",
              "4    the selection on the menu was great and so wer...\n",
              "Name: pre_Review, dtype: object"
            ],
            "text/html": [
              "<div>\n",
              "<style scoped>\n",
              "    .dataframe tbody tr th:only-of-type {\n",
              "        vertical-align: middle;\n",
              "    }\n",
              "\n",
              "    .dataframe tbody tr th {\n",
              "        vertical-align: top;\n",
              "    }\n",
              "\n",
              "    .dataframe thead th {\n",
              "        text-align: right;\n",
              "    }\n",
              "</style>\n",
              "<table border=\"1\" class=\"dataframe\">\n",
              "  <thead>\n",
              "    <tr style=\"text-align: right;\">\n",
              "      <th></th>\n",
              "      <th>pre_Review</th>\n",
              "    </tr>\n",
              "  </thead>\n",
              "  <tbody>\n",
              "    <tr>\n",
              "      <th>0</th>\n",
              "      <td>wow loved this place</td>\n",
              "    </tr>\n",
              "    <tr>\n",
              "      <th>1</th>\n",
              "      <td>crust is not good</td>\n",
              "    </tr>\n",
              "    <tr>\n",
              "      <th>2</th>\n",
              "      <td>not tasty and the texture was just nasty</td>\n",
              "    </tr>\n",
              "    <tr>\n",
              "      <th>3</th>\n",
              "      <td>stopped by during the late may bank holiday of...</td>\n",
              "    </tr>\n",
              "    <tr>\n",
              "      <th>4</th>\n",
              "      <td>the selection on the menu was great and so wer...</td>\n",
              "    </tr>\n",
              "  </tbody>\n",
              "</table>\n",
              "</div><br><label><b>dtype:</b> object</label>"
            ]
          },
          "metadata": {},
          "execution_count": 75
        }
      ]
    },
    {
      "cell_type": "code",
      "source": [
        "X.shape"
      ],
      "metadata": {
        "colab": {
          "base_uri": "https://localhost:8080/"
        },
        "id": "jvSJ6ntcY9Fm",
        "outputId": "4481927a-f71f-49b4-d8a1-6d4c1a1ea127"
      },
      "execution_count": 76,
      "outputs": [
        {
          "output_type": "execute_result",
          "data": {
            "text/plain": [
              "(1000,)"
            ]
          },
          "metadata": {},
          "execution_count": 76
        }
      ]
    },
    {
      "cell_type": "code",
      "source": [
        "Y.head()"
      ],
      "metadata": {
        "colab": {
          "base_uri": "https://localhost:8080/",
          "height": 241
        },
        "id": "Ll041_1PYOHO",
        "outputId": "461ac699-684c-4c92-8b44-55cdb37ae9fb"
      },
      "execution_count": 77,
      "outputs": [
        {
          "output_type": "execute_result",
          "data": {
            "text/plain": [
              "0    1\n",
              "1    0\n",
              "2    0\n",
              "3    1\n",
              "4    1\n",
              "Name: Liked, dtype: int64"
            ],
            "text/html": [
              "<div>\n",
              "<style scoped>\n",
              "    .dataframe tbody tr th:only-of-type {\n",
              "        vertical-align: middle;\n",
              "    }\n",
              "\n",
              "    .dataframe tbody tr th {\n",
              "        vertical-align: top;\n",
              "    }\n",
              "\n",
              "    .dataframe thead th {\n",
              "        text-align: right;\n",
              "    }\n",
              "</style>\n",
              "<table border=\"1\" class=\"dataframe\">\n",
              "  <thead>\n",
              "    <tr style=\"text-align: right;\">\n",
              "      <th></th>\n",
              "      <th>Liked</th>\n",
              "    </tr>\n",
              "  </thead>\n",
              "  <tbody>\n",
              "    <tr>\n",
              "      <th>0</th>\n",
              "      <td>1</td>\n",
              "    </tr>\n",
              "    <tr>\n",
              "      <th>1</th>\n",
              "      <td>0</td>\n",
              "    </tr>\n",
              "    <tr>\n",
              "      <th>2</th>\n",
              "      <td>0</td>\n",
              "    </tr>\n",
              "    <tr>\n",
              "      <th>3</th>\n",
              "      <td>1</td>\n",
              "    </tr>\n",
              "    <tr>\n",
              "      <th>4</th>\n",
              "      <td>1</td>\n",
              "    </tr>\n",
              "  </tbody>\n",
              "</table>\n",
              "</div><br><label><b>dtype:</b> int64</label>"
            ]
          },
          "metadata": {},
          "execution_count": 77
        }
      ]
    },
    {
      "cell_type": "markdown",
      "source": [
        "![image.png](data:image/png;base64,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)"
      ],
      "metadata": {
        "id": "Q5DbVNkGYWWX"
      }
    },
    {
      "cell_type": "code",
      "source": [
        "from sklearn.feature_extraction.text import TfidfVectorizer"
      ],
      "metadata": {
        "id": "urXJSqkTYPYS"
      },
      "execution_count": 78,
      "outputs": []
    },
    {
      "cell_type": "code",
      "source": [
        "tfidf = TfidfVectorizer()"
      ],
      "metadata": {
        "id": "hA2Yt4YlYczU"
      },
      "execution_count": 79,
      "outputs": []
    },
    {
      "cell_type": "code",
      "source": [
        "xpre = tfidf.fit_transform(X).toarray()"
      ],
      "metadata": {
        "id": "hQxtpvnAYemB"
      },
      "execution_count": 80,
      "outputs": []
    },
    {
      "cell_type": "code",
      "source": [
        "xpre.shape"
      ],
      "metadata": {
        "colab": {
          "base_uri": "https://localhost:8080/"
        },
        "id": "CzpJjrKqYlgI",
        "outputId": "f3877d7c-1f4c-4e82-bf5b-85a49ec4a7cf"
      },
      "execution_count": 81,
      "outputs": [
        {
          "output_type": "execute_result",
          "data": {
            "text/plain": [
              "(1000, 2046)"
            ]
          },
          "metadata": {},
          "execution_count": 81
        }
      ]
    },
    {
      "cell_type": "code",
      "source": [
        "xpre"
      ],
      "metadata": {
        "colab": {
          "base_uri": "https://localhost:8080/"
        },
        "id": "JN0yGJcfYsE-",
        "outputId": "77c6e895-4ac9-4dd4-8eba-a3fc07f0d685"
      },
      "execution_count": 82,
      "outputs": [
        {
          "output_type": "execute_result",
          "data": {
            "text/plain": [
              "array([[0., 0., 0., ..., 0., 0., 0.],\n",
              "       [0., 0., 0., ..., 0., 0., 0.],\n",
              "       [0., 0., 0., ..., 0., 0., 0.],\n",
              "       ...,\n",
              "       [0., 0., 0., ..., 0., 0., 0.],\n",
              "       [0., 0., 0., ..., 0., 0., 0.],\n",
              "       [0., 0., 0., ..., 0., 0., 0.]])"
            ]
          },
          "metadata": {},
          "execution_count": 82
        }
      ]
    },
    {
      "cell_type": "markdown",
      "source": [
        "## Apply train test split"
      ],
      "metadata": {
        "id": "vpHRQ_MOZeO5"
      }
    },
    {
      "cell_type": "code",
      "source": [
        "from sklearn.model_selection import train_test_split\n",
        "xtrain,xtest,ytrain,ytest = train_test_split(xpre,Y,train_size=0.75,random_state=21)"
      ],
      "metadata": {
        "id": "yIf_MGlKZWWr"
      },
      "execution_count": 83,
      "outputs": []
    },
    {
      "cell_type": "code",
      "source": [
        "xtrain.shape"
      ],
      "metadata": {
        "colab": {
          "base_uri": "https://localhost:8080/"
        },
        "id": "c8wxv7APZoit",
        "outputId": "7813e45d-fa5b-4667-a6f6-6d84ad688c3f"
      },
      "execution_count": 84,
      "outputs": [
        {
          "output_type": "execute_result",
          "data": {
            "text/plain": [
              "(750, 2046)"
            ]
          },
          "metadata": {},
          "execution_count": 84
        }
      ]
    },
    {
      "cell_type": "code",
      "source": [
        "xtest.shape"
      ],
      "metadata": {
        "colab": {
          "base_uri": "https://localhost:8080/"
        },
        "id": "IXKxyvk6ZpoJ",
        "outputId": "d5d2f4e7-ad52-4f1f-c7f8-751c0be4d04d"
      },
      "execution_count": 85,
      "outputs": [
        {
          "output_type": "execute_result",
          "data": {
            "text/plain": [
              "(250, 2046)"
            ]
          },
          "metadata": {},
          "execution_count": 85
        }
      ]
    },
    {
      "cell_type": "markdown",
      "source": [
        "## Build Neural network model"
      ],
      "metadata": {
        "id": "T8c3QeZ6Zsmk"
      }
    },
    {
      "cell_type": "code",
      "source": [
        "from keras.models import Sequential\n",
        "from keras.layers import Input,Dense,Dropout\n",
        "from keras.callbacks import EarlyStopping"
      ],
      "metadata": {
        "id": "CNoTjMqFZq7C"
      },
      "execution_count": 86,
      "outputs": []
    },
    {
      "cell_type": "code",
      "source": [
        "# Initialize the model\n",
        "model = Sequential()\n",
        "# Add the input layer\n",
        "model.add(Input(shape=(xtrain.shape[1],)))\n",
        "# Add hidden layer1\n",
        "model.add(Dense(units=64,activation=\"relu\"))\n",
        "# Add dropout layer\n",
        "model.add(Dropout(0.3))\n",
        "# Add hidden layer2\n",
        "model.add(Dense(units=32,activation=\"relu\"))\n",
        "# Add dropout layer\n",
        "model.add(Dropout(0.2))\n",
        "# Output layer\n",
        "model.add(Dense(units=1,activation='sigmoid'))"
      ],
      "metadata": {
        "id": "Ra_e5Z7dZ2tw"
      },
      "execution_count": 87,
      "outputs": []
    },
    {
      "cell_type": "code",
      "source": [
        "model.summary()"
      ],
      "metadata": {
        "colab": {
          "base_uri": "https://localhost:8080/",
          "height": 289
        },
        "id": "gClIhpOeaV6a",
        "outputId": "32bc70a4-97b1-4af9-ea4e-14aa91ae0be7"
      },
      "execution_count": 88,
      "outputs": [
        {
          "output_type": "display_data",
          "data": {
            "text/plain": [
              "\u001b[1mModel: \"sequential\"\u001b[0m\n"
            ],
            "text/html": [
              "<pre style=\"white-space:pre;overflow-x:auto;line-height:normal;font-family:Menlo,'DejaVu Sans Mono',consolas,'Courier New',monospace\"><span style=\"font-weight: bold\">Model: \"sequential\"</span>\n",
              "</pre>\n"
            ]
          },
          "metadata": {}
        },
        {
          "output_type": "display_data",
          "data": {
            "text/plain": [
              "┏━━━━━━━━━━━━━━━━━━━━━━━━━━━━━━━━━┳━━━━━━━━━━━━━━━━━━━━━━━━┳━━━━━━━━━━━━━━━┓\n",
              "┃\u001b[1m \u001b[0m\u001b[1mLayer (type)                   \u001b[0m\u001b[1m \u001b[0m┃\u001b[1m \u001b[0m\u001b[1mOutput Shape          \u001b[0m\u001b[1m \u001b[0m┃\u001b[1m \u001b[0m\u001b[1m      Param #\u001b[0m\u001b[1m \u001b[0m┃\n",
              "┡━━━━━━━━━━━━━━━━━━━━━━━━━━━━━━━━━╇━━━━━━━━━━━━━━━━━━━━━━━━╇━━━━━━━━━━━━━━━┩\n",
              "│ dense (\u001b[38;5;33mDense\u001b[0m)                   │ (\u001b[38;5;45mNone\u001b[0m, \u001b[38;5;34m64\u001b[0m)             │       \u001b[38;5;34m131,008\u001b[0m │\n",
              "├─────────────────────────────────┼────────────────────────┼───────────────┤\n",
              "│ dropout (\u001b[38;5;33mDropout\u001b[0m)               │ (\u001b[38;5;45mNone\u001b[0m, \u001b[38;5;34m64\u001b[0m)             │             \u001b[38;5;34m0\u001b[0m │\n",
              "├─────────────────────────────────┼────────────────────────┼───────────────┤\n",
              "│ dense_1 (\u001b[38;5;33mDense\u001b[0m)                 │ (\u001b[38;5;45mNone\u001b[0m, \u001b[38;5;34m32\u001b[0m)             │         \u001b[38;5;34m2,080\u001b[0m │\n",
              "├─────────────────────────────────┼────────────────────────┼───────────────┤\n",
              "│ dropout_1 (\u001b[38;5;33mDropout\u001b[0m)             │ (\u001b[38;5;45mNone\u001b[0m, \u001b[38;5;34m32\u001b[0m)             │             \u001b[38;5;34m0\u001b[0m │\n",
              "├─────────────────────────────────┼────────────────────────┼───────────────┤\n",
              "│ dense_2 (\u001b[38;5;33mDense\u001b[0m)                 │ (\u001b[38;5;45mNone\u001b[0m, \u001b[38;5;34m1\u001b[0m)              │            \u001b[38;5;34m33\u001b[0m │\n",
              "└─────────────────────────────────┴────────────────────────┴───────────────┘\n"
            ],
            "text/html": [
              "<pre style=\"white-space:pre;overflow-x:auto;line-height:normal;font-family:Menlo,'DejaVu Sans Mono',consolas,'Courier New',monospace\">┏━━━━━━━━━━━━━━━━━━━━━━━━━━━━━━━━━┳━━━━━━━━━━━━━━━━━━━━━━━━┳━━━━━━━━━━━━━━━┓\n",
              "┃<span style=\"font-weight: bold\"> Layer (type)                    </span>┃<span style=\"font-weight: bold\"> Output Shape           </span>┃<span style=\"font-weight: bold\">       Param # </span>┃\n",
              "┡━━━━━━━━━━━━━━━━━━━━━━━━━━━━━━━━━╇━━━━━━━━━━━━━━━━━━━━━━━━╇━━━━━━━━━━━━━━━┩\n",
              "│ dense (<span style=\"color: #0087ff; text-decoration-color: #0087ff\">Dense</span>)                   │ (<span style=\"color: #00d7ff; text-decoration-color: #00d7ff\">None</span>, <span style=\"color: #00af00; text-decoration-color: #00af00\">64</span>)             │       <span style=\"color: #00af00; text-decoration-color: #00af00\">131,008</span> │\n",
              "├─────────────────────────────────┼────────────────────────┼───────────────┤\n",
              "│ dropout (<span style=\"color: #0087ff; text-decoration-color: #0087ff\">Dropout</span>)               │ (<span style=\"color: #00d7ff; text-decoration-color: #00d7ff\">None</span>, <span style=\"color: #00af00; text-decoration-color: #00af00\">64</span>)             │             <span style=\"color: #00af00; text-decoration-color: #00af00\">0</span> │\n",
              "├─────────────────────────────────┼────────────────────────┼───────────────┤\n",
              "│ dense_1 (<span style=\"color: #0087ff; text-decoration-color: #0087ff\">Dense</span>)                 │ (<span style=\"color: #00d7ff; text-decoration-color: #00d7ff\">None</span>, <span style=\"color: #00af00; text-decoration-color: #00af00\">32</span>)             │         <span style=\"color: #00af00; text-decoration-color: #00af00\">2,080</span> │\n",
              "├─────────────────────────────────┼────────────────────────┼───────────────┤\n",
              "│ dropout_1 (<span style=\"color: #0087ff; text-decoration-color: #0087ff\">Dropout</span>)             │ (<span style=\"color: #00d7ff; text-decoration-color: #00d7ff\">None</span>, <span style=\"color: #00af00; text-decoration-color: #00af00\">32</span>)             │             <span style=\"color: #00af00; text-decoration-color: #00af00\">0</span> │\n",
              "├─────────────────────────────────┼────────────────────────┼───────────────┤\n",
              "│ dense_2 (<span style=\"color: #0087ff; text-decoration-color: #0087ff\">Dense</span>)                 │ (<span style=\"color: #00d7ff; text-decoration-color: #00d7ff\">None</span>, <span style=\"color: #00af00; text-decoration-color: #00af00\">1</span>)              │            <span style=\"color: #00af00; text-decoration-color: #00af00\">33</span> │\n",
              "└─────────────────────────────────┴────────────────────────┴───────────────┘\n",
              "</pre>\n"
            ]
          },
          "metadata": {}
        },
        {
          "output_type": "display_data",
          "data": {
            "text/plain": [
              "\u001b[1m Total params: \u001b[0m\u001b[38;5;34m133,121\u001b[0m (520.00 KB)\n"
            ],
            "text/html": [
              "<pre style=\"white-space:pre;overflow-x:auto;line-height:normal;font-family:Menlo,'DejaVu Sans Mono',consolas,'Courier New',monospace\"><span style=\"font-weight: bold\"> Total params: </span><span style=\"color: #00af00; text-decoration-color: #00af00\">133,121</span> (520.00 KB)\n",
              "</pre>\n"
            ]
          },
          "metadata": {}
        },
        {
          "output_type": "display_data",
          "data": {
            "text/plain": [
              "\u001b[1m Trainable params: \u001b[0m\u001b[38;5;34m133,121\u001b[0m (520.00 KB)\n"
            ],
            "text/html": [
              "<pre style=\"white-space:pre;overflow-x:auto;line-height:normal;font-family:Menlo,'DejaVu Sans Mono',consolas,'Courier New',monospace\"><span style=\"font-weight: bold\"> Trainable params: </span><span style=\"color: #00af00; text-decoration-color: #00af00\">133,121</span> (520.00 KB)\n",
              "</pre>\n"
            ]
          },
          "metadata": {}
        },
        {
          "output_type": "display_data",
          "data": {
            "text/plain": [
              "\u001b[1m Non-trainable params: \u001b[0m\u001b[38;5;34m0\u001b[0m (0.00 B)\n"
            ],
            "text/html": [
              "<pre style=\"white-space:pre;overflow-x:auto;line-height:normal;font-family:Menlo,'DejaVu Sans Mono',consolas,'Courier New',monospace\"><span style=\"font-weight: bold\"> Non-trainable params: </span><span style=\"color: #00af00; text-decoration-color: #00af00\">0</span> (0.00 B)\n",
              "</pre>\n"
            ]
          },
          "metadata": {}
        }
      ]
    },
    {
      "cell_type": "code",
      "source": [
        "model.compile(loss=\"binary_crossentropy\",optimizer=\"adam\",metrics=[\"accuracy\"])"
      ],
      "metadata": {
        "id": "TQCZ3Ki8aXuv"
      },
      "execution_count": 89,
      "outputs": []
    },
    {
      "cell_type": "code",
      "source": [
        "es = EarlyStopping(monitor=\"val_loss\",patience=15)"
      ],
      "metadata": {
        "id": "-tHLjqqYahIj"
      },
      "execution_count": 117,
      "outputs": []
    },
    {
      "cell_type": "code",
      "source": [
        "hist = model.fit(xtrain,ytrain,validation_split=0.2,epochs=200,callbacks=[es])"
      ],
      "metadata": {
        "colab": {
          "base_uri": "https://localhost:8080/"
        },
        "id": "A2CGdAPzamDh",
        "outputId": "a560b793-ba5c-4759-cdf9-eb763db44356"
      },
      "execution_count": 118,
      "outputs": [
        {
          "output_type": "stream",
          "name": "stdout",
          "text": [
            "Epoch 1/200\n",
            "\u001b[1m19/19\u001b[0m \u001b[32m━━━━━━━━━━━━━━━━━━━━\u001b[0m\u001b[37m\u001b[0m \u001b[1m0s\u001b[0m 12ms/step - accuracy: 1.0000 - loss: 6.5425e-04 - val_accuracy: 0.7467 - val_loss: 0.8774\n",
            "Epoch 2/200\n",
            "\u001b[1m19/19\u001b[0m \u001b[32m━━━━━━━━━━━━━━━━━━━━\u001b[0m\u001b[37m\u001b[0m \u001b[1m0s\u001b[0m 10ms/step - accuracy: 1.0000 - loss: 4.3175e-04 - val_accuracy: 0.7400 - val_loss: 0.8800\n",
            "Epoch 3/200\n",
            "\u001b[1m19/19\u001b[0m \u001b[32m━━━━━━━━━━━━━━━━━━━━\u001b[0m\u001b[37m\u001b[0m \u001b[1m0s\u001b[0m 9ms/step - accuracy: 1.0000 - loss: 5.9291e-04 - val_accuracy: 0.7267 - val_loss: 0.8954\n",
            "Epoch 4/200\n",
            "\u001b[1m19/19\u001b[0m \u001b[32m━━━━━━━━━━━━━━━━━━━━\u001b[0m\u001b[37m\u001b[0m \u001b[1m0s\u001b[0m 10ms/step - accuracy: 1.0000 - loss: 5.1682e-04 - val_accuracy: 0.7267 - val_loss: 0.9005\n",
            "Epoch 5/200\n",
            "\u001b[1m19/19\u001b[0m \u001b[32m━━━━━━━━━━━━━━━━━━━━\u001b[0m\u001b[37m\u001b[0m \u001b[1m0s\u001b[0m 10ms/step - accuracy: 1.0000 - loss: 4.3505e-04 - val_accuracy: 0.7133 - val_loss: 0.9065\n",
            "Epoch 6/200\n",
            "\u001b[1m19/19\u001b[0m \u001b[32m━━━━━━━━━━━━━━━━━━━━\u001b[0m\u001b[37m\u001b[0m \u001b[1m0s\u001b[0m 7ms/step - accuracy: 1.0000 - loss: 2.9993e-04 - val_accuracy: 0.7133 - val_loss: 0.9135\n",
            "Epoch 7/200\n",
            "\u001b[1m19/19\u001b[0m \u001b[32m━━━━━━━━━━━━━━━━━━━━\u001b[0m\u001b[37m\u001b[0m \u001b[1m0s\u001b[0m 5ms/step - accuracy: 1.0000 - loss: 3.4083e-04 - val_accuracy: 0.7133 - val_loss: 0.9205\n",
            "Epoch 8/200\n",
            "\u001b[1m19/19\u001b[0m \u001b[32m━━━━━━━━━━━━━━━━━━━━\u001b[0m\u001b[37m\u001b[0m \u001b[1m0s\u001b[0m 5ms/step - accuracy: 1.0000 - loss: 3.2590e-04 - val_accuracy: 0.7133 - val_loss: 0.9232\n",
            "Epoch 9/200\n",
            "\u001b[1m19/19\u001b[0m \u001b[32m━━━━━━━━━━━━━━━━━━━━\u001b[0m\u001b[37m\u001b[0m \u001b[1m0s\u001b[0m 5ms/step - accuracy: 1.0000 - loss: 4.2703e-04 - val_accuracy: 0.7267 - val_loss: 0.9132\n",
            "Epoch 10/200\n",
            "\u001b[1m19/19\u001b[0m \u001b[32m━━━━━━━━━━━━━━━━━━━━\u001b[0m\u001b[37m\u001b[0m \u001b[1m0s\u001b[0m 5ms/step - accuracy: 1.0000 - loss: 3.2873e-04 - val_accuracy: 0.7267 - val_loss: 0.9123\n",
            "Epoch 11/200\n",
            "\u001b[1m19/19\u001b[0m \u001b[32m━━━━━━━━━━━━━━━━━━━━\u001b[0m\u001b[37m\u001b[0m \u001b[1m0s\u001b[0m 5ms/step - accuracy: 1.0000 - loss: 3.2142e-04 - val_accuracy: 0.7267 - val_loss: 0.9195\n",
            "Epoch 12/200\n",
            "\u001b[1m19/19\u001b[0m \u001b[32m━━━━━━━━━━━━━━━━━━━━\u001b[0m\u001b[37m\u001b[0m \u001b[1m0s\u001b[0m 5ms/step - accuracy: 1.0000 - loss: 4.2176e-04 - val_accuracy: 0.7200 - val_loss: 0.9681\n",
            "Epoch 13/200\n",
            "\u001b[1m19/19\u001b[0m \u001b[32m━━━━━━━━━━━━━━━━━━━━\u001b[0m\u001b[37m\u001b[0m \u001b[1m0s\u001b[0m 7ms/step - accuracy: 1.0000 - loss: 3.7873e-04 - val_accuracy: 0.7267 - val_loss: 0.9618\n",
            "Epoch 14/200\n",
            "\u001b[1m19/19\u001b[0m \u001b[32m━━━━━━━━━━━━━━━━━━━━\u001b[0m\u001b[37m\u001b[0m \u001b[1m0s\u001b[0m 5ms/step - accuracy: 1.0000 - loss: 4.1983e-04 - val_accuracy: 0.7200 - val_loss: 0.9554\n",
            "Epoch 15/200\n",
            "\u001b[1m19/19\u001b[0m \u001b[32m━━━━━━━━━━━━━━━━━━━━\u001b[0m\u001b[37m\u001b[0m \u001b[1m0s\u001b[0m 5ms/step - accuracy: 1.0000 - loss: 3.2712e-04 - val_accuracy: 0.7267 - val_loss: 0.9589\n",
            "Epoch 16/200\n",
            "\u001b[1m19/19\u001b[0m \u001b[32m━━━━━━━━━━━━━━━━━━━━\u001b[0m\u001b[37m\u001b[0m \u001b[1m0s\u001b[0m 5ms/step - accuracy: 1.0000 - loss: 4.2414e-04 - val_accuracy: 0.7267 - val_loss: 0.9541\n"
          ]
        }
      ]
    },
    {
      "cell_type": "markdown",
      "source": [
        "## Evaluate the model"
      ],
      "metadata": {
        "id": "FvbLYGL4a1fy"
      }
    },
    {
      "cell_type": "code",
      "source": [
        "model.evaluate(xtrain,ytrain)"
      ],
      "metadata": {
        "colab": {
          "base_uri": "https://localhost:8080/"
        },
        "id": "1W7NGmQeat62",
        "outputId": "89514dea-5619-4654-93b6-25357b47e189"
      },
      "execution_count": 119,
      "outputs": [
        {
          "output_type": "stream",
          "name": "stdout",
          "text": [
            "\u001b[1m24/24\u001b[0m \u001b[32m━━━━━━━━━━━━━━━━━━━━\u001b[0m\u001b[37m\u001b[0m \u001b[1m0s\u001b[0m 3ms/step - accuracy: 0.9907 - loss: 0.0323     \n"
          ]
        },
        {
          "output_type": "execute_result",
          "data": {
            "text/plain": [
              "[0.1908724009990692, 0.9453333616256714]"
            ]
          },
          "metadata": {},
          "execution_count": 119
        }
      ]
    },
    {
      "cell_type": "code",
      "source": [
        "model.evaluate(xtest,ytest)"
      ],
      "metadata": {
        "colab": {
          "base_uri": "https://localhost:8080/"
        },
        "id": "6OhdCiOTa47z",
        "outputId": "e91f0c76-74b8-495f-e3e8-5e86acbeb7ed"
      },
      "execution_count": 120,
      "outputs": [
        {
          "output_type": "stream",
          "name": "stdout",
          "text": [
            "\u001b[1m8/8\u001b[0m \u001b[32m━━━━━━━━━━━━━━━━━━━━\u001b[0m\u001b[37m\u001b[0m \u001b[1m0s\u001b[0m 5ms/step - accuracy: 0.8304 - loss: 0.5914 \n"
          ]
        },
        {
          "output_type": "execute_result",
          "data": {
            "text/plain": [
              "[0.7230232357978821, 0.7919999957084656]"
            ]
          },
          "metadata": {},
          "execution_count": 120
        }
      ]
    },
    {
      "cell_type": "code",
      "source": [
        "probs = model.predict(xtest)"
      ],
      "metadata": {
        "colab": {
          "base_uri": "https://localhost:8080/"
        },
        "id": "khdRNSrqbGX8",
        "outputId": "534d3280-e525-45a2-9092-26cf33836138"
      },
      "execution_count": 121,
      "outputs": [
        {
          "output_type": "stream",
          "name": "stdout",
          "text": [
            "\u001b[1m8/8\u001b[0m \u001b[32m━━━━━━━━━━━━━━━━━━━━\u001b[0m\u001b[37m\u001b[0m \u001b[1m0s\u001b[0m 3ms/step \n"
          ]
        }
      ]
    },
    {
      "cell_type": "code",
      "source": [
        "preds[:5]"
      ],
      "metadata": {
        "colab": {
          "base_uri": "https://localhost:8080/"
        },
        "id": "1MehMXlybIfY",
        "outputId": "7d90bfe9-b328-4732-9530-b93a8f66f43a"
      },
      "execution_count": 122,
      "outputs": [
        {
          "output_type": "execute_result",
          "data": {
            "text/plain": [
              "array([[7.647624e-02],\n",
              "       [1.921084e-04],\n",
              "       [9.958460e-01],\n",
              "       [9.999716e-01],\n",
              "       [9.998115e-01]], dtype=float32)"
            ]
          },
          "metadata": {},
          "execution_count": 122
        }
      ]
    },
    {
      "cell_type": "code",
      "source": [
        "def predict_sentiment(model,x):\n",
        "  yprob = model.predict(x)\n",
        "  ypred = [1 if prob>=0.5 else 0 for prob in yprob]\n",
        "  return ypred"
      ],
      "metadata": {
        "id": "J5ojjk5pbNOg"
      },
      "execution_count": 123,
      "outputs": []
    },
    {
      "cell_type": "code",
      "source": [
        "ypred_test = predict_sentiment(model,xtest)\n",
        "ypred_test[:5]"
      ],
      "metadata": {
        "colab": {
          "base_uri": "https://localhost:8080/"
        },
        "id": "LxsOogCQbcVt",
        "outputId": "d7d06f5c-21d9-4c16-bdef-50d0b30a254e"
      },
      "execution_count": 124,
      "outputs": [
        {
          "output_type": "stream",
          "name": "stdout",
          "text": [
            "\u001b[1m8/8\u001b[0m \u001b[32m━━━━━━━━━━━━━━━━━━━━\u001b[0m\u001b[37m\u001b[0m \u001b[1m0s\u001b[0m 3ms/step \n"
          ]
        },
        {
          "output_type": "execute_result",
          "data": {
            "text/plain": [
              "[0, 0, 1, 1, 1]"
            ]
          },
          "metadata": {},
          "execution_count": 124
        }
      ]
    },
    {
      "cell_type": "code",
      "source": [
        "ytest.head()"
      ],
      "metadata": {
        "colab": {
          "base_uri": "https://localhost:8080/",
          "height": 241
        },
        "id": "ivlH49zTbuX5",
        "outputId": "ad6c0e9a-9ffc-4643-e51a-d91907dc75e8"
      },
      "execution_count": 125,
      "outputs": [
        {
          "output_type": "execute_result",
          "data": {
            "text/plain": [
              "492    0\n",
              "383    0\n",
              "856    1\n",
              "834    1\n",
              "603    1\n",
              "Name: Liked, dtype: int64"
            ],
            "text/html": [
              "<div>\n",
              "<style scoped>\n",
              "    .dataframe tbody tr th:only-of-type {\n",
              "        vertical-align: middle;\n",
              "    }\n",
              "\n",
              "    .dataframe tbody tr th {\n",
              "        vertical-align: top;\n",
              "    }\n",
              "\n",
              "    .dataframe thead th {\n",
              "        text-align: right;\n",
              "    }\n",
              "</style>\n",
              "<table border=\"1\" class=\"dataframe\">\n",
              "  <thead>\n",
              "    <tr style=\"text-align: right;\">\n",
              "      <th></th>\n",
              "      <th>Liked</th>\n",
              "    </tr>\n",
              "  </thead>\n",
              "  <tbody>\n",
              "    <tr>\n",
              "      <th>492</th>\n",
              "      <td>0</td>\n",
              "    </tr>\n",
              "    <tr>\n",
              "      <th>383</th>\n",
              "      <td>0</td>\n",
              "    </tr>\n",
              "    <tr>\n",
              "      <th>856</th>\n",
              "      <td>1</td>\n",
              "    </tr>\n",
              "    <tr>\n",
              "      <th>834</th>\n",
              "      <td>1</td>\n",
              "    </tr>\n",
              "    <tr>\n",
              "      <th>603</th>\n",
              "      <td>1</td>\n",
              "    </tr>\n",
              "  </tbody>\n",
              "</table>\n",
              "</div><br><label><b>dtype:</b> int64</label>"
            ]
          },
          "metadata": {},
          "execution_count": 125
        }
      ]
    },
    {
      "cell_type": "code",
      "source": [
        "from sklearn.metrics import ConfusionMatrixDisplay,classification_report\n",
        "ConfusionMatrixDisplay.from_predictions(ytest,ypred_test)"
      ],
      "metadata": {
        "colab": {
          "base_uri": "https://localhost:8080/",
          "height": 466
        },
        "id": "wQci5VIqb4Xq",
        "outputId": "0be3a1b3-0104-4ce8-c72d-f87fdb463508"
      },
      "execution_count": 126,
      "outputs": [
        {
          "output_type": "execute_result",
          "data": {
            "text/plain": [
              "<sklearn.metrics._plot.confusion_matrix.ConfusionMatrixDisplay at 0x7f31d0721dd0>"
            ]
          },
          "metadata": {},
          "execution_count": 126
        },
        {
          "output_type": "display_data",
          "data": {
            "text/plain": [
              "<Figure size 640x480 with 2 Axes>"
            ],
            "image/png": "[encoded data removed]"
          },
          "metadata": {}
        }
      ]
    },
    {
      "cell_type": "code",
      "source": [
        "print(classification_report(ytest,ypred_test))"
      ],
      "metadata": {
        "colab": {
          "base_uri": "https://localhost:8080/"
        },
        "id": "Oq_A4EM7cHqR",
        "outputId": "d25211ff-4bf0-41ac-c390-505be7b7e389"
      },
      "execution_count": 127,
      "outputs": [
        {
          "output_type": "stream",
          "name": "stdout",
          "text": [
            "              precision    recall  f1-score   support\n",
            "\n",
            "           0       0.83      0.74      0.78       125\n",
            "           1       0.76      0.85      0.80       125\n",
            "\n",
            "    accuracy                           0.79       250\n",
            "   macro avg       0.80      0.79      0.79       250\n",
            "weighted avg       0.80      0.79      0.79       250\n",
            "\n"
          ]
        }
      ]
    },
    {
      "cell_type": "markdown",
      "source": [
        "## ROC Receiever Operator characteristics"
      ],
      "metadata": {
        "id": "Pl0eJJgxceEA"
      }
    },
    {
      "cell_type": "code",
      "source": [
        "from sklearn.metrics import RocCurveDisplay\n",
        "RocCurveDisplay.from_predictions(ytest,ypred_test)"
      ],
      "metadata": {
        "colab": {
          "base_uri": "https://localhost:8080/",
          "height": 468
        },
        "id": "KcDOIeqAcjE4",
        "outputId": "3dbf7a0c-6b07-4f41-e427-777fa3b83a8a"
      },
      "execution_count": 128,
      "outputs": [
        {
          "output_type": "execute_result",
          "data": {
            "text/plain": [
              "<sklearn.metrics._plot.roc_curve.RocCurveDisplay at 0x7f31d07239d0>"
            ]
          },
          "metadata": {},
          "execution_count": 128
        },
        {
          "output_type": "display_data",
          "data": {
            "text/plain": [
              "<Figure size 640x480 with 1 Axes>"
            ],
            "image/png": "[encoded data removed]"
          },
          "metadata": {}
        }
      ]
    },
    {
      "cell_type": "markdown",
      "source": [
        "## Final predictions"
      ],
      "metadata": {
        "id": "vIVGS3nUbEBq"
      }
    },
    {
      "cell_type": "code",
      "source": [
        "text1 = \"Took an hour to get our food only 4 tables in restaurant my food was Luke warm, Our sever was running around like he was totally overwhelmed.\""
      ],
      "metadata": {
        "id": "U2Q7PjEPa6m4"
      },
      "execution_count": 129,
      "outputs": []
    },
    {
      "cell_type": "code",
      "source": [
        "def out_of_sample(text):\n",
        "  # for new data, always preprocess the text, apply tfidf and then give that to model\n",
        "  text = preprocess_text(text)\n",
        "  text_pre = tfidf.transform([text]).toarray()\n",
        "  prob = model.predict(text_pre)\n",
        "  if prob>=0.5:\n",
        "    return 1\n",
        "  else:\n",
        "    return 0"
      ],
      "metadata": {
        "id": "pXU1cASIdCMl"
      },
      "execution_count": 134,
      "outputs": []
    },
    {
      "cell_type": "code",
      "source": [
        "out_of_sample(text1)"
      ],
      "metadata": {
        "colab": {
          "base_uri": "https://localhost:8080/"
        },
        "id": "dzL0sfFUdk0_",
        "outputId": "094bb325-e98a-45f6-82bd-59fee45a60bb"
      },
      "execution_count": 135,
      "outputs": [
        {
          "output_type": "stream",
          "name": "stdout",
          "text": [
            "\u001b[1m1/1\u001b[0m \u001b[32m━━━━━━━━━━━━━━━━━━━━\u001b[0m\u001b[37m\u001b[0m \u001b[1m0s\u001b[0m 344ms/step\n"
          ]
        },
        {
          "output_type": "execute_result",
          "data": {
            "text/plain": [
              "0"
            ]
          },
          "metadata": {},
          "execution_count": 135
        }
      ]
    },
    {
      "cell_type": "code",
      "source": [
        "def out_of_sample(text):\n",
        "  text = preprocess_text(text)\n",
        "  text_pre = tfidf.transform([text]).toarray()\n",
        "  prob = model.predict(text_pre)\n",
        "  if prob>=0.5:\n",
        "    return \"Positive\"\n",
        "  else:\n",
        "    return \"Negative\""
      ],
      "metadata": {
        "id": "7DDz6nmMdmZz"
      },
      "execution_count": 136,
      "outputs": []
    },
    {
      "cell_type": "code",
      "source": [
        "out_of_sample(text1)"
      ],
      "metadata": {
        "colab": {
          "base_uri": "https://localhost:8080/",
          "height": 53
        },
        "id": "AbWmEetpd_lX",
        "outputId": "5d12c3f8-0dc6-448f-e6cc-f138c9bf01ab"
      },
      "execution_count": 137,
      "outputs": [
        {
          "output_type": "stream",
          "name": "stdout",
          "text": [
            "\u001b[1m1/1\u001b[0m \u001b[32m━━━━━━━━━━━━━━━━━━━━\u001b[0m\u001b[37m\u001b[0m \u001b[1m0s\u001b[0m 31ms/step\n"
          ]
        },
        {
          "output_type": "execute_result",
          "data": {
            "text/plain": [
              "'Negative'"
            ],
            "application/vnd.google.colaboratory.intrinsic+json": {
              "type": "string"
            }
          },
          "metadata": {},
          "execution_count": 137
        }
      ]
    },
    {
      "cell_type": "markdown",
      "source": [
        "## Save the model"
      ],
      "metadata": {
        "id": "brhLDW24eCS0"
      }
    },
    {
      "cell_type": "code",
      "source": [
        "model.save(\"SentimentAnalysis.keras\")"
      ],
      "metadata": {
        "id": "1iuNDsJDeAqH"
      },
      "execution_count": 138,
      "outputs": []
    },
    {
      "cell_type": "code",
      "source": [
        "from keras.models import load_model\n",
        "m = load_model('/content/SentimentAnalysis.keras')\n",
        "m.summary()"
      ],
      "metadata": {
        "colab": {
          "base_uri": "https://localhost:8080/",
          "height": 305
        },
        "id": "TZFsk9M0eGlv",
        "outputId": "4d2a9efb-0323-46b6-9385-d6e8f88588e1"
      },
      "execution_count": 139,
      "outputs": [
        {
          "output_type": "display_data",
          "data": {
            "text/plain": [
              "\u001b[1mModel: \"sequential\"\u001b[0m\n"
            ],
            "text/html": [
              "<pre style=\"white-space:pre;overflow-x:auto;line-height:normal;font-family:Menlo,'DejaVu Sans Mono',consolas,'Courier New',monospace\"><span style=\"font-weight: bold\">Model: \"sequential\"</span>\n",
              "</pre>\n"
            ]
          },
          "metadata": {}
        },
        {
          "output_type": "display_data",
          "data": {
            "text/plain": [
              "┏━━━━━━━━━━━━━━━━━━━━━━━━━━━━━━━━━┳━━━━━━━━━━━━━━━━━━━━━━━━┳━━━━━━━━━━━━━━━┓\n",
              "┃\u001b[1m \u001b[0m\u001b[1mLayer (type)                   \u001b[0m\u001b[1m \u001b[0m┃\u001b[1m \u001b[0m\u001b[1mOutput Shape          \u001b[0m\u001b[1m \u001b[0m┃\u001b[1m \u001b[0m\u001b[1m      Param #\u001b[0m\u001b[1m \u001b[0m┃\n",
              "┡━━━━━━━━━━━━━━━━━━━━━━━━━━━━━━━━━╇━━━━━━━━━━━━━━━━━━━━━━━━╇━━━━━━━━━━━━━━━┩\n",
              "│ dense (\u001b[38;5;33mDense\u001b[0m)                   │ (\u001b[38;5;45mNone\u001b[0m, \u001b[38;5;34m64\u001b[0m)             │       \u001b[38;5;34m131,008\u001b[0m │\n",
              "├─────────────────────────────────┼────────────────────────┼───────────────┤\n",
              "│ dropout (\u001b[38;5;33mDropout\u001b[0m)               │ (\u001b[38;5;45mNone\u001b[0m, \u001b[38;5;34m64\u001b[0m)             │             \u001b[38;5;34m0\u001b[0m │\n",
              "├─────────────────────────────────┼────────────────────────┼───────────────┤\n",
              "│ dense_1 (\u001b[38;5;33mDense\u001b[0m)                 │ (\u001b[38;5;45mNone\u001b[0m, \u001b[38;5;34m32\u001b[0m)             │         \u001b[38;5;34m2,080\u001b[0m │\n",
              "├─────────────────────────────────┼────────────────────────┼───────────────┤\n",
              "│ dropout_1 (\u001b[38;5;33mDropout\u001b[0m)             │ (\u001b[38;5;45mNone\u001b[0m, \u001b[38;5;34m32\u001b[0m)             │             \u001b[38;5;34m0\u001b[0m │\n",
              "├─────────────────────────────────┼────────────────────────┼───────────────┤\n",
              "│ dense_2 (\u001b[38;5;33mDense\u001b[0m)                 │ (\u001b[38;5;45mNone\u001b[0m, \u001b[38;5;34m1\u001b[0m)              │            \u001b[38;5;34m33\u001b[0m │\n",
              "└─────────────────────────────────┴────────────────────────┴───────────────┘\n"
            ],
            "text/html": [
              "<pre style=\"white-space:pre;overflow-x:auto;line-height:normal;font-family:Menlo,'DejaVu Sans Mono',consolas,'Courier New',monospace\">┏━━━━━━━━━━━━━━━━━━━━━━━━━━━━━━━━━┳━━━━━━━━━━━━━━━━━━━━━━━━┳━━━━━━━━━━━━━━━┓\n",
              "┃<span style=\"font-weight: bold\"> Layer (type)                    </span>┃<span style=\"font-weight: bold\"> Output Shape           </span>┃<span style=\"font-weight: bold\">       Param # </span>┃\n",
              "┡━━━━━━━━━━━━━━━━━━━━━━━━━━━━━━━━━╇━━━━━━━━━━━━━━━━━━━━━━━━╇━━━━━━━━━━━━━━━┩\n",
              "│ dense (<span style=\"color: #0087ff; text-decoration-color: #0087ff\">Dense</span>)                   │ (<span style=\"color: #00d7ff; text-decoration-color: #00d7ff\">None</span>, <span style=\"color: #00af00; text-decoration-color: #00af00\">64</span>)             │       <span style=\"color: #00af00; text-decoration-color: #00af00\">131,008</span> │\n",
              "├─────────────────────────────────┼────────────────────────┼───────────────┤\n",
              "│ dropout (<span style=\"color: #0087ff; text-decoration-color: #0087ff\">Dropout</span>)               │ (<span style=\"color: #00d7ff; text-decoration-color: #00d7ff\">None</span>, <span style=\"color: #00af00; text-decoration-color: #00af00\">64</span>)             │             <span style=\"color: #00af00; text-decoration-color: #00af00\">0</span> │\n",
              "├─────────────────────────────────┼────────────────────────┼───────────────┤\n",
              "│ dense_1 (<span style=\"color: #0087ff; text-decoration-color: #0087ff\">Dense</span>)                 │ (<span style=\"color: #00d7ff; text-decoration-color: #00d7ff\">None</span>, <span style=\"color: #00af00; text-decoration-color: #00af00\">32</span>)             │         <span style=\"color: #00af00; text-decoration-color: #00af00\">2,080</span> │\n",
              "├─────────────────────────────────┼────────────────────────┼───────────────┤\n",
              "│ dropout_1 (<span style=\"color: #0087ff; text-decoration-color: #0087ff\">Dropout</span>)             │ (<span style=\"color: #00d7ff; text-decoration-color: #00d7ff\">None</span>, <span style=\"color: #00af00; text-decoration-color: #00af00\">32</span>)             │             <span style=\"color: #00af00; text-decoration-color: #00af00\">0</span> │\n",
              "├─────────────────────────────────┼────────────────────────┼───────────────┤\n",
              "│ dense_2 (<span style=\"color: #0087ff; text-decoration-color: #0087ff\">Dense</span>)                 │ (<span style=\"color: #00d7ff; text-decoration-color: #00d7ff\">None</span>, <span style=\"color: #00af00; text-decoration-color: #00af00\">1</span>)              │            <span style=\"color: #00af00; text-decoration-color: #00af00\">33</span> │\n",
              "└─────────────────────────────────┴────────────────────────┴───────────────┘\n",
              "</pre>\n"
            ]
          },
          "metadata": {}
        },
        {
          "output_type": "display_data",
          "data": {
            "text/plain": [
              "\u001b[1m Total params: \u001b[0m\u001b[38;5;34m399,365\u001b[0m (1.52 MB)\n"
            ],
            "text/html": [
              "<pre style=\"white-space:pre;overflow-x:auto;line-height:normal;font-family:Menlo,'DejaVu Sans Mono',consolas,'Courier New',monospace\"><span style=\"font-weight: bold\"> Total params: </span><span style=\"color: #00af00; text-decoration-color: #00af00\">399,365</span> (1.52 MB)\n",
              "</pre>\n"
            ]
          },
          "metadata": {}
        },
        {
          "output_type": "display_data",
          "data": {
            "text/plain": [
              "\u001b[1m Trainable params: \u001b[0m\u001b[38;5;34m133,121\u001b[0m (520.00 KB)\n"
            ],
            "text/html": [
              "<pre style=\"white-space:pre;overflow-x:auto;line-height:normal;font-family:Menlo,'DejaVu Sans Mono',consolas,'Courier New',monospace\"><span style=\"font-weight: bold\"> Trainable params: </span><span style=\"color: #00af00; text-decoration-color: #00af00\">133,121</span> (520.00 KB)\n",
              "</pre>\n"
            ]
          },
          "metadata": {}
        },
        {
          "output_type": "display_data",
          "data": {
            "text/plain": [
              "\u001b[1m Non-trainable params: \u001b[0m\u001b[38;5;34m0\u001b[0m (0.00 B)\n"
            ],
            "text/html": [
              "<pre style=\"white-space:pre;overflow-x:auto;line-height:normal;font-family:Menlo,'DejaVu Sans Mono',consolas,'Courier New',monospace\"><span style=\"font-weight: bold\"> Non-trainable params: </span><span style=\"color: #00af00; text-decoration-color: #00af00\">0</span> (0.00 B)\n",
              "</pre>\n"
            ]
          },
          "metadata": {}
        },
        {
          "output_type": "display_data",
          "data": {
            "text/plain": [
              "\u001b[1m Optimizer params: \u001b[0m\u001b[38;5;34m266,244\u001b[0m (1.02 MB)\n"
            ],
            "text/html": [
              "<pre style=\"white-space:pre;overflow-x:auto;line-height:normal;font-family:Menlo,'DejaVu Sans Mono',consolas,'Courier New',monospace\"><span style=\"font-weight: bold\"> Optimizer params: </span><span style=\"color: #00af00; text-decoration-color: #00af00\">266,244</span> (1.02 MB)\n",
              "</pre>\n"
            ]
          },
          "metadata": {}
        }
      ]
    },
    {
      "cell_type": "code",
      "source": [],
      "metadata": {
        "id": "uS62UiNJeOjs"
      },
      "execution_count": null,
      "outputs": []
    }
  ]
}